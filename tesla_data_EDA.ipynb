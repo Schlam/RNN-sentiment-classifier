{
  "nbformat": 4,
  "nbformat_minor": 0,
  "metadata": {
    "kernelspec": {
      "name": "python3",
      "display_name": "Python 3"
    },
    "colab": {
      "name": "tesla_data.ipynb",
      "provenance": [],
      "include_colab_link": true
    },
    "accelerator": "GPU"
  },
  "cells": [
    {
      "cell_type": "markdown",
      "metadata": {
        "id": "view-in-github",
        "colab_type": "text"
      },
      "source": [
        "<a href=\"https://colab.research.google.com/github/Schlam/RNN-sentiment-classifier/blob/master/tesla_data_EDA.ipynb\" target=\"_parent\"><img src=\"https://colab.research.google.com/assets/colab-badge.svg\" alt=\"Open In Colab\"/></a>"
      ]
    },
    {
      "cell_type": "code",
      "metadata": {
        "id": "oXphDnIiSKI7",
        "colab_type": "code",
        "colab": {}
      },
      "source": [
        "!pip install vaderSentiment\n",
        "!pip install tensorflow==2.1.0\n",
        "from google.colab import files\n",
        "files.upload()"
      ],
      "execution_count": 0,
      "outputs": []
    },
    {
      "cell_type": "code",
      "metadata": {
        "id": "DydcaLD2R-cc",
        "colab_type": "code",
        "outputId": "3d67d55e-9fb3-4a0e-eefb-6b434ea22c63",
        "colab": {
          "base_uri": "https://localhost:8080/",
          "height": 161
        }
      },
      "source": [
        "from multiprocessing.pool import ThreadPool\n",
        "import csv\n",
        "import os\n",
        "\n",
        "# Load in data from every post on reddit containing \"tesla\" in the past 48 days\n",
        "data = []\n",
        "for i in range(1, 49):\n",
        "    with open('tesla-031820-{}.csv'.format(i),'r') as f:\n",
        "        reader = csv.reader(f) \n",
        "        next(reader)\n",
        "        with ThreadPool(16) as p:\n",
        "            data.extend(p.map(list, reader))\n",
        "            \n",
        "\n",
        "columns = ['created_utc', 'selftext', 'title', 'score', 'subreddit']\n",
        "\n",
        "print(\"Total # of posts: \", len(data)-1)\n",
        "print(\"\\nColumns: \",columns)\n",
        "print(\"\\nExample: \",data[0])\n",
        "print(\"\\nData points with nonempy text columns: \",len([d for d in data if d[1]!='']))"
      ],
      "execution_count": 0,
      "outputs": [
        {
          "output_type": "stream",
          "text": [
            "Total # of posts:  21640\n",
            "\n",
            "Columns:  ['created_utc', 'selftext', 'title', 'score', 'subreddit']\n",
            "\n",
            "Example:  ['1553171217', '', 'Tesla testing new ‘self-driving’ vehicle w/ robotic chauffeur', '17758', 'wallstreetbets']\n",
            "\n",
            "Data points with nonempy text columns:  10129\n"
          ],
          "name": "stdout"
        }
      ]
    },
    {
      "cell_type": "code",
      "metadata": {
        "id": "LAlND4s5R-cm",
        "colab_type": "code",
        "outputId": "70009e03-fa3d-4e27-d8b4-04a8c14b0c9b",
        "colab": {
          "base_uri": "https://localhost:8080/",
          "height": 34
        }
      },
      "source": [
        "import re\n",
        "\n",
        "# List for all text data from posts\n",
        "texts = [re.sub('\\d|http\\S+|www\\S+', ' ',str(d[1])) for d in data if d[1]!='']\n",
        "\n",
        "print(texts[0][:64],\"...\")"
      ],
      "execution_count": 0,
      "outputs": [
        {
          "output_type": "stream",
          "text": [
            "I'm doing a BoS playthrough and after completing Automotron I de ...\n"
          ],
          "name": "stdout"
        }
      ]
    },
    {
      "cell_type": "code",
      "metadata": {
        "scrolled": true,
        "id": "LotHAAo-R-cs",
        "colab_type": "code",
        "outputId": "346040c6-f9d3-4515-e3dc-27447b26e21d",
        "colab": {
          "base_uri": "https://localhost:8080/",
          "height": 366
        }
      },
      "source": [
        "import matplotlib.pyplot as plt\n",
        "import seaborn as sns\n",
        "import pandas as pd\n",
        "\n",
        "plt.figure(figsize = (8, 3), dpi=120)\n",
        "plt.title(\"Before shortening\")\n",
        "sns.set(color_codes=True)\n",
        "sns.distplot([len(t) for t in texts])\n",
        "plt.show()"
      ],
      "execution_count": 0,
      "outputs": [
        {
          "output_type": "display_data",
          "data": {
            "image/png": "[encoded data removed]",
            "text/plain": [
              "<Figure size 960x360 with 1 Axes>"
            ]
          },
          "metadata": {
            "tags": []
          }
        }
      ]
    },
    {
      "cell_type": "code",
      "metadata": {
        "id": "RfjhbHmVVCQQ",
        "colab_type": "code",
        "outputId": "0226a846-c0b2-48d2-a033-afc95b2611cc",
        "colab": {
          "base_uri": "https://localhost:8080/",
          "height": 70
        }
      },
      "source": [
        "print(\"Percentage of posts less than 10000 chars long: \\n\")\n",
        "len([t for t in texts if len(t) <= 10000])/len(texts)"
      ],
      "execution_count": 0,
      "outputs": [
        {
          "output_type": "stream",
          "text": [
            "Percentage of posts less than 10000 chars long: \n",
            "\n"
          ],
          "name": "stdout"
        },
        {
          "output_type": "execute_result",
          "data": {
            "text/plain": [
              "0.9556718333497878"
            ]
          },
          "metadata": {
            "tags": []
          },
          "execution_count": 7
        }
      ]
    },
    {
      "cell_type": "code",
      "metadata": {
        "id": "KBycClhXVamA",
        "colab_type": "code",
        "colab": {}
      },
      "source": [
        "# Reduce runtime by shortening text length\n",
        "texts = [t[:10000] for t in texts]"
      ],
      "execution_count": 0,
      "outputs": []
    },
    {
      "cell_type": "code",
      "metadata": {
        "id": "c1eHLHdeR-cx",
        "colab_type": "code",
        "outputId": "5f896b43-c1bd-4eef-b4a2-74889c947d60",
        "colab": {
          "base_uri": "https://localhost:8080/",
          "height": 34
        }
      },
      "source": [
        "from vaderSentiment.vaderSentiment import SentimentIntensityAnalyzer\n",
        "from datetime import datetime\n",
        "analyzer = SentimentIntensityAnalyzer()\n",
        "\n",
        "get_attributes = lambda doc: (doc[\"pos\"], doc[\"neu\"], doc[\"neg\"], doc[\"compound\"])\n",
        "\n",
        "def get_sentiment(docs):\n",
        "    \"\"\"\n",
        "    Analyze sentiment of each reddit post using vaderSentiment\n",
        "    \"\"\"\n",
        "    results = []\n",
        "    with ThreadPool(4) as p:\n",
        "        results.extend(p.map(lambda x: get_attributes(analyzer.polarity_scores(x)), docs))\n",
        "    return results\n",
        "    \n",
        "a = datetime.now()    \n",
        "sentiment = get_sentiment(texts)\n",
        "b = datetime.now()\n",
        "timedelta = b-a\n",
        "print(\"Analyzed sentiment of {} texts in {} seconds:\".format(len(texts), timedelta.seconds))"
      ],
      "execution_count": 0,
      "outputs": [
        {
          "output_type": "stream",
          "text": [
            "Analyzed sentiment of 10129 texts in 104 seconds:\n"
          ],
          "name": "stdout"
        }
      ]
    },
    {
      "cell_type": "code",
      "metadata": {
        "id": "1xp8aSuyR-c3",
        "colab_type": "code",
        "colab": {}
      },
      "source": [
        "pos_sent = np.array([t[0] for t in text_sentiment])\n",
        "scores = [int(d[3]) for d in data if d[1]!='']\n",
        "\n",
        "df = pd.DataFrame(tuple(zip(scores, pos_sent)), columns = [\"score\", \"pos\"])\n",
        "sns.jointplot(x=\"score\", y=\"pos\", data=df, kind=\"kde\")"
      ],
      "execution_count": 0,
      "outputs": []
    },
    {
      "cell_type": "code",
      "metadata": {
        "id": "YBfnh5u9R-c8",
        "colab_type": "code",
        "outputId": "a2d860a0-4562-4969-dbe6-84b444e77833",
        "colab": {
          "base_uri": "https://localhost:8080/",
          "height": 454
        }
      },
      "source": [
        "import numpy as np\n",
        "import pandas as pd\n",
        "import seaborn as sns\n",
        "from matplotlib.gridspec import GridSpec\n",
        "import matplotlib.pyplot as plt\n",
        "\n",
        "pos = np.array([t[0] for t in sentiment])\n",
        "neg = np.array([t[0] for t in sentiment])\n",
        "neu = np.array([t[0] for t in sentiment])\n",
        "scores = [int(d[3]) for d in data if d[1]!='']\n",
        "\n",
        "sns.jointplot(x=scores, y=pos)\n",
        "#sns.jointplot(x=scores, y=neu)\n",
        "#sns.jointplot(x=scores, y=neg)"
      ],
      "execution_count": 0,
      "outputs": [
        {
          "output_type": "execute_result",
          "data": {
            "text/plain": [
              "<seaborn.axisgrid.JointGrid at 0x7ff2c948af28>"
            ]
          },
          "metadata": {
            "tags": []
          },
          "execution_count": 44
        },
        {
          "output_type": "display_data",
          "data": {
            "image/png": "[encoded data removed]",
            "text/plain": [
              "<Figure size 432x432 with 3 Axes>"
            ]
          },
          "metadata": {
            "tags": []
          }
        }
      ]
    },
    {
      "cell_type": "markdown",
      "metadata": {
        "id": "utEOYQXoR-dd",
        "colab_type": "text"
      },
      "source": [
        "len(data)"
      ]
    }
  ]
}